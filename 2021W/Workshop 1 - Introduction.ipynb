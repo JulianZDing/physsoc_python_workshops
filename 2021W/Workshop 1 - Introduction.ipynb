{
 "cells": [
  {
   "cell_type": "markdown",
   "id": "ee042599",
   "metadata": {},
   "source": [
    "# Physics Society: Introduction to Python Workshop (2021)\n",
    "\n",
    "### Author: Julian Ding (julianzding@alumni.ubc.ca)\n",
    "\n",
    "## Itinerary (90 minutes)\n",
    "\n",
    "\"Vanilla\" Python\n",
    "\n",
    "1. [Hello World](#1.-Hello-World) (5 min)\n",
    "2. [Basic Data](#2.-Basic-Data) (5 min)\n",
    "3. [Lists and Dictionaries](#3.-Lists-and-Dictionaries) (10 min)\n",
    "4. [Conditionals, Loops, and Comprehensions](#4.-Conditionals,-Loops,-and-Comprehensions) (15 min)\n",
    "5. [Functions](#5.-Functions) (20 min)\n",
    "\n",
    "Scientific Python Packages\n",
    "\n",
    "6. [NumPy](#6.-NumPy) (15 min)\n",
    "7. [Matplotlib](#7.-Matplotlib) (15 min)\n",
    "8. [SciPy](#8.-SciPy) (5 min)\n",
    "\n",
    "Challenge Problems\n",
    "\n",
    "9. [Challenge Problems](#9.-Challenge-Problems)"
   ]
  },
  {
   "cell_type": "markdown",
   "id": "07bfa4b1",
   "metadata": {},
   "source": [
    "# 1. Hello World\n",
    "\n",
    "For most purposes, there are three ways to run Python code:\n",
    "1. Using the `python` commandline (not recommended for complex tasks)\n",
    "2. `.py` files (\"scripts\")\n",
    "3. `.ipynb` files (\"notebooks\")\n",
    "\n",
    "**Try it out!** Make Python print \"Hello World\" using all three methods.\n",
    "\n",
    "(Note: if you want to use notebooks, you need to install Jupyter: `pip install jupyter`)"
   ]
  },
  {
   "cell_type": "code",
   "execution_count": null,
   "id": "ef0b1f8b",
   "metadata": {},
   "outputs": [],
   "source": [
    "print('Hello World')"
   ]
  },
  {
   "cell_type": "markdown",
   "id": "0cb6325c",
   "metadata": {},
   "source": [
    "### Jupyter Notebooks\n",
    "\n",
    "This document is a Jupyter notebook. There are several benefits of using a notebook over a script:\n",
    "- You can separate your code into cells and run them out of order\n",
    "- Data is saved on memory until explicitly cleared; no need to repeat costly computations\n",
    "- Visual organization and fun widgets\n",
    "\n",
    "**Try it out!** If you haven't already, download the workshop notebook from https://github.com/JulianZDing/physsoc_python_workshops and run these demos on your computer as the workshop progresses."
   ]
  },
  {
   "cell_type": "markdown",
   "id": "062a9da1",
   "metadata": {},
   "source": [
    "There are two main cell types that you will be using in a notebook. This current cell is a Markdown cell, meaning the text is formatted using Markdown, a lightweight formatting syntax.\n",
    "\n",
    "Jupyter's Markdown is a similar type of syntax as the markup formatting used by websites like Reddit and GitHub. There are lots of fun things you can do with it, like render $\\LaTeX$ equations:\n",
    "\n",
    "$$\\vec{F} = m\\frac{d^2}{dt^2}\\vec{r}$$\n",
    "\n",
    "A full guide on Markdown is available __[here](https://jupyter-notebook.readthedocs.io/en/stable/examples/Notebook/Working%20With%20Markdown%20Cells.html)__."
   ]
  },
  {
   "cell_type": "code",
   "execution_count": null,
   "id": "2e618446",
   "metadata": {},
   "outputs": [],
   "source": [
    "# This is a code cell. Think of it as a mini Python script,\n",
    "# but one that keeps memory of all the variables from other cells that have been run before.\n",
    "# Note: lines that start with # are \"comments\". They're for the programmer to read and Python to ignore.\n",
    "\n",
    "from time import sleep\n",
    "\n",
    "for i in range(3, 0, -1):\n",
    "    print(f'Next lesson in {i}')\n",
    "    sleep(1)\n",
    "print('Next lesson!')"
   ]
  },
  {
   "cell_type": "markdown",
   "id": "aa741e53",
   "metadata": {},
   "source": [
    "# 2. Basic Data\n",
    "\n",
    "Python has many built-in data types. Let's start with the simple ones.\n",
    "\n",
    "### Integers"
   ]
  },
  {
   "cell_type": "code",
   "execution_count": null,
   "id": "627b39e2",
   "metadata": {},
   "outputs": [],
   "source": [
    "x = 2\n",
    "y = 3"
   ]
  },
  {
   "cell_type": "code",
   "execution_count": null,
   "id": "fb830cf4",
   "metadata": {},
   "outputs": [],
   "source": [
    "x + y"
   ]
  },
  {
   "cell_type": "code",
   "execution_count": null,
   "id": "20d3d41a",
   "metadata": {},
   "outputs": [],
   "source": [
    "x - y"
   ]
  },
  {
   "cell_type": "code",
   "execution_count": null,
   "id": "ba2cc647",
   "metadata": {},
   "outputs": [],
   "source": [
    "x * y"
   ]
  },
  {
   "cell_type": "code",
   "execution_count": null,
   "id": "c0de7ce1",
   "metadata": {},
   "outputs": [],
   "source": [
    "int(x / y) # Integer truncation"
   ]
  },
  {
   "cell_type": "code",
   "execution_count": null,
   "id": "0dbdce51",
   "metadata": {},
   "outputs": [],
   "source": [
    "x // y # forces integer division"
   ]
  },
  {
   "cell_type": "code",
   "execution_count": null,
   "id": "05a217e3",
   "metadata": {},
   "outputs": [],
   "source": [
    "x ** y"
   ]
  },
  {
   "cell_type": "code",
   "execution_count": null,
   "id": "2cb631f1",
   "metadata": {},
   "outputs": [],
   "source": [
    "x % y"
   ]
  },
  {
   "cell_type": "markdown",
   "id": "aac8cc98",
   "metadata": {},
   "source": [
    "### Floating point numbers\n",
    "(or \"floats\" for short). These are pretty much the real numbers you know and love, with some caveats."
   ]
  },
  {
   "cell_type": "code",
   "execution_count": null,
   "id": "a8c844fa",
   "metadata": {},
   "outputs": [],
   "source": [
    "# You can create a float using scientific notation in the format <number>e<order> = number * 10^order\n",
    "6.022e23"
   ]
  },
  {
   "cell_type": "code",
   "execution_count": null,
   "id": "979315d7",
   "metadata": {},
   "outputs": [],
   "source": [
    "# Dividing two integers without recasting will create a float\n",
    "x / y"
   ]
  },
  {
   "cell_type": "code",
   "execution_count": null,
   "id": "161b2f15",
   "metadata": {},
   "outputs": [],
   "source": [
    "# Floats are not exact because they must be represented using bits of data\n",
    "# Here we're printing 0.3 to 20 significant digits\n",
    "\n",
    "print(\"This is not exact: {:.20f}\".format(0.3))\n",
    "\n",
    "# Because of this \"roundoff error\", you have to be careful when comparing floating point numbers\n",
    "# Don't check that two floating-point numbers are equal! Use a tolerance instead\n",
    "\n",
    "a = 1 + 1e-12\n",
    "b = 1 - 1e-12\n",
    "epsilon = 1e-10\n",
    "\n",
    "print('If there is roundoff error, two floats that are \"supposed\" to be equal may not be! a==b =',a == b)\n",
    "print('It is better to check if the values are within some tolerance: |a-b| < epsilon =', abs(a-b) < epsilon)"
   ]
  },
  {
   "cell_type": "markdown",
   "id": "2854cebf",
   "metadata": {},
   "source": [
    "### Strings\n",
    "This data type represents all text."
   ]
  },
  {
   "cell_type": "code",
   "execution_count": null,
   "id": "74e721cb",
   "metadata": {},
   "outputs": [],
   "source": [
    "'strings can use single quotes'"
   ]
  },
  {
   "cell_type": "code",
   "execution_count": null,
   "id": "cbcd0c55",
   "metadata": {},
   "outputs": [],
   "source": [
    "\"strings can also use double quotes\""
   ]
  },
  {
   "cell_type": "code",
   "execution_count": null,
   "id": "a0c48b45",
   "metadata": {},
   "outputs": [],
   "source": [
    "'do not mix and match\""
   ]
  },
  {
   "cell_type": "markdown",
   "id": "c0da74f8",
   "metadata": {},
   "source": [
    "Some arithmetic operators also work with strings."
   ]
  },
  {
   "cell_type": "code",
   "execution_count": null,
   "id": "77ea4ee5",
   "metadata": {},
   "outputs": [],
   "source": [
    "'Hello' + 'World'"
   ]
  },
  {
   "cell_type": "code",
   "execution_count": null,
   "id": "4fcb8518",
   "metadata": {},
   "outputs": [],
   "source": [
    "3 * 'Hello'"
   ]
  },
  {
   "cell_type": "markdown",
   "id": "b2543676",
   "metadata": {},
   "source": [
    "There are three main ways of formatting strings in Python."
   ]
  },
  {
   "cell_type": "code",
   "execution_count": null,
   "id": "78ac4c23",
   "metadata": {},
   "outputs": [],
   "source": [
    "'The integers we used in the first example were %d and %d' % (x, y)"
   ]
  },
  {
   "cell_type": "code",
   "execution_count": null,
   "id": "6d0a4548",
   "metadata": {},
   "outputs": [],
   "source": [
    "'The integers we used in the first example were {} and {}'.format(x, y)"
   ]
  },
  {
   "cell_type": "code",
   "execution_count": null,
   "id": "3932c2bc",
   "metadata": {},
   "outputs": [],
   "source": [
    "f'The integers we used in the first example were {x} and {y}'"
   ]
  },
  {
   "cell_type": "markdown",
   "id": "0ebd4c48",
   "metadata": {},
   "source": [
    "String formatting is a rather complex topic. For more details, you can start with __[this guide](https://pyformat.info/)__.\n",
    "\n",
    "**Try it out!** Reverse mad libs. Format a string to insert these variables into a paragraph:"
   ]
  },
  {
   "cell_type": "code",
   "execution_count": null,
   "id": "db7dc622",
   "metadata": {},
   "outputs": [],
   "source": [
    "a_name = 'Santa Ono'\n",
    "an_integer = 27\n",
    "a_small_number = 0.035\n",
    "a_large_number = 8.897e9\n",
    "an_adjective = 'delicious'\n",
    "an_adverb = 'slowly'\n",
    "a_noun = 'potato'"
   ]
  },
  {
   "cell_type": "code",
   "execution_count": null,
   "id": "4dd67d79",
   "metadata": {},
   "outputs": [],
   "source": [
    "# Your code here\n"
   ]
  },
  {
   "cell_type": "markdown",
   "id": "4724684c",
   "metadata": {},
   "source": [
    "# 3. Lists and Dictionaries\n",
    "(and their relatives)\n",
    "\n",
    "These data types are called collections: they contain instances of other data types. In many programming languages, you can only have collections of a single data type; Python doesn't care (Python doesn't care about much)."
   ]
  },
  {
   "cell_type": "markdown",
   "id": "950d7bdf",
   "metadata": {},
   "source": [
    "### Lists\n",
    "\n",
    "- Order is preserved\n",
    "- Elements are accessed by index (0-based)\n",
    "- Sub-ranges can be accessed using slices"
   ]
  },
  {
   "cell_type": "code",
   "execution_count": null,
   "id": "e7bcd945",
   "metadata": {},
   "outputs": [],
   "source": [
    "[2, 4, 6]"
   ]
  },
  {
   "cell_type": "code",
   "execution_count": null,
   "id": "723853b5",
   "metadata": {},
   "outputs": [],
   "source": [
    "[2, 4, 6] + [3, 5, 7]"
   ]
  },
  {
   "cell_type": "code",
   "execution_count": null,
   "id": "3b8b169d",
   "metadata": {},
   "outputs": [],
   "source": [
    "my_list = [2, 4, 6]\n",
    "my_list.append(8)\n",
    "print(my_list)"
   ]
  },
  {
   "cell_type": "code",
   "execution_count": null,
   "id": "a529edad",
   "metadata": {},
   "outputs": [],
   "source": [
    "my_list = [2, 4, 6]\n",
    "other_list = [3, 5, 7]\n",
    "my_list.extend(other_list)\n",
    "print(my_list)"
   ]
  },
  {
   "cell_type": "code",
   "execution_count": null,
   "id": "c19ecc55",
   "metadata": {},
   "outputs": [],
   "source": [
    "print(my_list[0]) # first element\n",
    "print(my_list[3]) # 4th element\n",
    "print(my_list[-1]) # last element\n",
    "print(my_list[-3]) # 3rd-to-last element"
   ]
  },
  {
   "cell_type": "code",
   "execution_count": null,
   "id": "c87d78a4",
   "metadata": {},
   "outputs": [],
   "source": [
    "len(my_list)"
   ]
  },
  {
   "cell_type": "code",
   "execution_count": null,
   "id": "1f99a837",
   "metadata": {},
   "outputs": [],
   "source": [
    "# [2, 4, 6, 3, 5, 7]\n",
    "#  0  1  2  3  4  5\n",
    "\n",
    "print(my_list[2:5]) # elements at indices [2, 5) (i.e. 2 3 4)\n",
    "print(my_list[:3]) # first 3 elements\n",
    "print(my_list[:-2]) # all elements except last 2\n",
    "print(my_list[-4:]) # last 4 elements\n",
    "print(my_list[1:5:2]) # elements at indices [1, 5) but only every second one (i.e. 1 3)"
   ]
  },
  {
   "cell_type": "code",
   "execution_count": null,
   "id": "d6159165",
   "metadata": {},
   "outputs": [],
   "source": [
    "# Here's an abomination list containing a bunch of different data types just to demonstrate that Python doesn't care\n",
    "# You probably won't be doing this very often...\n",
    "\n",
    "[1337, 'leetcode', '3.14159']"
   ]
  },
  {
   "cell_type": "markdown",
   "id": "7b1a6a1e",
   "metadata": {},
   "source": [
    "**Try it out!** Given the following list and the operations shown above,\n",
    "- access the middle element\n",
    "- make a list of every 3rd element\n",
    "- make a list of all the odd numbers followed by all the even numbers"
   ]
  },
  {
   "cell_type": "code",
   "execution_count": null,
   "id": "4a24ddf2",
   "metadata": {},
   "outputs": [],
   "source": [
    "fun_list = [13, 4, 7, 14, 5, 28, 1]"
   ]
  },
  {
   "cell_type": "code",
   "execution_count": null,
   "id": "8dccee4a",
   "metadata": {},
   "outputs": [],
   "source": [
    "# Your code here\n"
   ]
  },
  {
   "cell_type": "markdown",
   "id": "e4815a29",
   "metadata": {},
   "source": [
    "A note on *tuples*: if you use round brackets instead of square brackets when creating a list, you'll create a tuple instead. Tuples are basically read-only lists: you can access them just like lists, but you can't change them."
   ]
  },
  {
   "cell_type": "code",
   "execution_count": null,
   "id": "4ed61973",
   "metadata": {},
   "outputs": [],
   "source": [
    "my_tuple = (2, 4, 6)\n",
    "print(my_tuple[1])\n",
    "my_tuple[1] = 8 # not allowed!"
   ]
  },
  {
   "cell_type": "code",
   "execution_count": null,
   "id": "904aedcf",
   "metadata": {},
   "outputs": [],
   "source": [
    "my_tuple + (3, 5, 7) # challenge: why does this work?"
   ]
  },
  {
   "cell_type": "markdown",
   "id": "9c59b889",
   "metadata": {},
   "source": [
    "### Dictionaries\n",
    "\n",
    "- Order is *not* preserved\n",
    "- Elements are accessed by key\n",
    "- Other programming languages often call them maps"
   ]
  },
  {
   "cell_type": "code",
   "execution_count": null,
   "id": "b6f1fbdf",
   "metadata": {},
   "outputs": [],
   "source": [
    "{'one': 1, 'two': 2, 'three': 3}"
   ]
  },
  {
   "cell_type": "code",
   "execution_count": null,
   "id": "b71c41e4",
   "metadata": {},
   "outputs": [],
   "source": [
    "# You can't add dictionaries like you can with lists\n",
    "{'one': 1, 'two': 2, 'three': 3} + {'four': 4, 'five': 5, 'six': 6}"
   ]
  },
  {
   "cell_type": "code",
   "execution_count": null,
   "id": "51aaabc2",
   "metadata": {},
   "outputs": [],
   "source": [
    "my_dict = {'one': 1, 'two': 2, 'three': 3}\n",
    "print(my_dict['two']) # get the element with key 'two'"
   ]
  },
  {
   "cell_type": "code",
   "execution_count": null,
   "id": "1afb9011",
   "metadata": {},
   "outputs": [],
   "source": [
    "print(my_dict['four']) # if the key doesn't exist, Python screams"
   ]
  },
  {
   "cell_type": "code",
   "execution_count": null,
   "id": "149b918e",
   "metadata": {},
   "outputs": [],
   "source": [
    "my_dict['four'] = 4 # add new entry\n",
    "my_dict['one'] = 5 # update existing entry\n",
    "print(my_dict)"
   ]
  },
  {
   "cell_type": "code",
   "execution_count": null,
   "id": "99502cf1",
   "metadata": {},
   "outputs": [],
   "source": [
    "# You can get a list of the keys and values in corresponding order like this\n",
    "keys = list(my_dict.keys())\n",
    "values = list(my_dict.values())\n",
    "print(keys)\n",
    "print(values)"
   ]
  },
  {
   "cell_type": "code",
   "execution_count": null,
   "id": "6d642ec4",
   "metadata": {},
   "outputs": [],
   "source": [
    "# Like with lists, the keys and values in a dictionary don't need to be the same type\n",
    "{'large': 9, 6: 'extra dip', 2.0: 11}"
   ]
  },
  {
   "cell_type": "markdown",
   "id": "a7de4ec0",
   "metadata": {},
   "source": [
    "**Try it out!** Suppose we wanted to use dictionaries to represent a binary tree. The left child of each node will have the key \"left\", the right child will have the key \"right\", and the data stored in the node will have the key \"data\". How would you represent the following binary tree?\n",
    "\n",
    "<img src=\"Images/binary_search_tree.png\" width=50%>"
   ]
  },
  {
   "cell_type": "code",
   "execution_count": null,
   "id": "871bd3f8",
   "metadata": {},
   "outputs": [],
   "source": [
    "# Here's the root node as a hint\n",
    "root = {\n",
    "    'left': ..., # left node goes here\n",
    "    'right': ..., # right node goes here\n",
    "    'data': 8\n",
    "}"
   ]
  },
  {
   "cell_type": "code",
   "execution_count": null,
   "id": "b7a1568c",
   "metadata": {},
   "outputs": [],
   "source": [
    "# Your code here\n"
   ]
  },
  {
   "cell_type": "markdown",
   "id": "d5e992cf",
   "metadata": {},
   "source": [
    "A note on *sets*: if you use curly brackets to create a list but you don't have any keys, what's created instead is a set. This is a collection that does not preserve order but only allows unique elements, no duplicates. This can be useful in certain applications."
   ]
  },
  {
   "cell_type": "code",
   "execution_count": null,
   "id": "1c555d61",
   "metadata": {},
   "outputs": [],
   "source": [
    "{1, 2 ,3, 4, 5}"
   ]
  },
  {
   "cell_type": "code",
   "execution_count": null,
   "id": "23effc4c",
   "metadata": {},
   "outputs": [],
   "source": [
    "{1, 2 ,3, 4, 4, 5} # duplicates are pruned"
   ]
  },
  {
   "cell_type": "code",
   "execution_count": null,
   "id": "7ff9874a",
   "metadata": {},
   "outputs": [],
   "source": [
    "set([1,2,3,4,4,5]) # lists can be turned into sets via type casting"
   ]
  },
  {
   "cell_type": "markdown",
   "id": "d879549d",
   "metadata": {},
   "source": [
    "# 4. Conditionals, Loops, and Comprehensions\n",
    "\n",
    "Data is all well and good, but ultimately we want our programs to have logic. These structures help.\n",
    "\n",
    "### Conditionals\n",
    "\n",
    "The most basic kind of logic in programming; do something if a condition is satisfied."
   ]
  },
  {
   "cell_type": "code",
   "execution_count": null,
   "id": "894082f5",
   "metadata": {},
   "outputs": [],
   "source": [
    "is_hungry = True\n",
    "if is_hungry:\n",
    "    print('Stomach growling...')"
   ]
  },
  {
   "cell_type": "code",
   "execution_count": null,
   "id": "2e13012e",
   "metadata": {},
   "outputs": [],
   "source": [
    "is_hungry = False\n",
    "if is_hungry:\n",
    "    print('Stomach growling...')\n",
    "else:\n",
    "    print('Just chilling...')"
   ]
  },
  {
   "cell_type": "code",
   "execution_count": null,
   "id": "0e38ccb8",
   "metadata": {},
   "outputs": [],
   "source": [
    "is_hungry = True\n",
    "if is_hungry:\n",
    "    print('Stomach growling...')\n",
    "print('Gotta keep working...') # this line executes regardless of the condition"
   ]
  },
  {
   "cell_type": "code",
   "execution_count": null,
   "id": "15456b58",
   "metadata": {},
   "outputs": [],
   "source": [
    "# You can chain conditionals with if-elif\n",
    "number = int(input('Enter a number: '))\n",
    "if number % 5 == 0:\n",
    "    print(f'{number} is divisible by 5')\n",
    "elif number % 3 == 0:\n",
    "    print(f'{number} is divisible by 3')\n",
    "elif number % 2 == 0:\n",
    "    print(f'{number} is divisible by 2')\n",
    "else:\n",
    "    print(f'{number} is not divisible by 2, 3, or 5')"
   ]
  },
  {
   "cell_type": "code",
   "execution_count": null,
   "id": "f24b7722",
   "metadata": {},
   "outputs": [],
   "source": [
    "# You can also nest conditionals inside each other\n",
    "number = int(input('Enter a number: '))\n",
    "if number < 0:\n",
    "    message = f'{number} is negative'\n",
    "    if number % 2 == 0:\n",
    "        message += ' and even'\n",
    "    else:\n",
    "        message += ' and odd'\n",
    "else:\n",
    "    message = f'{number} is not negative'\n",
    "print(message)"
   ]
  },
  {
   "cell_type": "markdown",
   "id": "ea384d3b",
   "metadata": {},
   "source": [
    "**Try it out!** Using the variables `is_sunny` and `is_hot`, how would you use conditionals to store the best course of action in the variable `what_to_do`?\n",
    "\n",
    "> If it's a sunny day, make sure to wear sunscreen, otherwise bring an umbrella just in case. If it's hot, bring lots of water to stay hydrated. Whatever the case may be, a hat is always a good idea!"
   ]
  },
  {
   "cell_type": "code",
   "execution_count": null,
   "id": "cdc7d55b",
   "metadata": {},
   "outputs": [],
   "source": [
    "from random import randint\n",
    "\n",
    "what_to_do = None\n",
    "is_sunny = bool(randint(0, 1))\n",
    "is_hot = bool(randint(0, 1))\n",
    "\n",
    "if is_sunny: print('It is sunny')\n",
    "else: print('It is not sunny')\n",
    "if is_hot: print('It is hot')\n",
    "else: print('It is not hot')"
   ]
  },
  {
   "cell_type": "code",
   "execution_count": null,
   "id": "9d08340f",
   "metadata": {},
   "outputs": [],
   "source": [
    "# Your code here\n"
   ]
  },
  {
   "cell_type": "markdown",
   "id": "4b36c637",
   "metadata": {},
   "source": [
    "### The Logical Operators\n",
    "\n",
    "Here's how to make comparisions between variables:"
   ]
  },
  {
   "cell_type": "code",
   "execution_count": null,
   "id": "97db8d4f",
   "metadata": {},
   "outputs": [],
   "source": [
    "not True # logical NOT"
   ]
  },
  {
   "cell_type": "code",
   "execution_count": null,
   "id": "48208edb",
   "metadata": {},
   "outputs": [],
   "source": [
    "True and False # logical AND"
   ]
  },
  {
   "cell_type": "code",
   "execution_count": null,
   "id": "d00ac167",
   "metadata": {},
   "outputs": [],
   "source": [
    "True or False # logical OR"
   ]
  },
  {
   "cell_type": "code",
   "execution_count": null,
   "id": "346cbb16",
   "metadata": {},
   "outputs": [],
   "source": [
    "3 < 4 # less than"
   ]
  },
  {
   "cell_type": "code",
   "execution_count": null,
   "id": "8d1066fd",
   "metadata": {},
   "outputs": [],
   "source": [
    "3 <= 3 # less than or equal to"
   ]
  },
  {
   "cell_type": "code",
   "execution_count": null,
   "id": "3e845894",
   "metadata": {},
   "outputs": [],
   "source": [
    "3 > 4 # greater than"
   ]
  },
  {
   "cell_type": "code",
   "execution_count": null,
   "id": "5c6bd707",
   "metadata": {},
   "outputs": [],
   "source": [
    "3 >= 4 # greater than or equal to"
   ]
  },
  {
   "cell_type": "code",
   "execution_count": null,
   "id": "ea5a26f5",
   "metadata": {},
   "outputs": [],
   "source": [
    "3 == 3 # equal to"
   ]
  },
  {
   "cell_type": "code",
   "execution_count": null,
   "id": "8c7a7f45",
   "metadata": {},
   "outputs": [],
   "source": [
    "3 != 4 # not equal to"
   ]
  },
  {
   "cell_type": "code",
   "execution_count": null,
   "id": "e4d3a933",
   "metadata": {},
   "outputs": [],
   "source": [
    "None is None # check if two objects are the same object (don't use with numbers)"
   ]
  },
  {
   "cell_type": "markdown",
   "id": "80dac477",
   "metadata": {},
   "source": [
    "### Loops\n",
    "\n",
    "Ever wanted to do the same task over and over and over? Yeah, me neither. Thankfully, computers are really good at doing that for you!"
   ]
  },
  {
   "cell_type": "code",
   "execution_count": null,
   "id": "cbf13d3e",
   "metadata": {},
   "outputs": [],
   "source": [
    "# A while loop will continue to execute until the condition becomes false\n",
    "start = int(input('Enter a positive number: '))\n",
    "while (start > 0):\n",
    "    print(f'This will print {start-1} more times')\n",
    "    start -= 1"
   ]
  },
  {
   "cell_type": "code",
   "execution_count": null,
   "id": "e8ab8bc4",
   "metadata": {},
   "outputs": [],
   "source": [
    "# A for loop executes for a set number of times\n",
    "times = 10\n",
    "for i in range(times):\n",
    "    print(f'{i+1}/{times} iterations complete')"
   ]
  },
  {
   "cell_type": "code",
   "execution_count": null,
   "id": "a4def004",
   "metadata": {},
   "outputs": [],
   "source": [
    "# The range function in a bit more detail\n",
    "obj = range(10)\n",
    "print(obj)  # range generates a range object\n",
    "print(list(obj)) # you can convert it to a list if you want to use it for something list-related\n",
    "\n",
    "# range gives you a lot of control (start, stop, step)\n",
    "print(list(range(2, 5)))\n",
    "print(list(range(5, -11, -1)))\n",
    "print(list(range(0, 14, 2)))"
   ]
  },
  {
   "cell_type": "code",
   "execution_count": null,
   "id": "f82ebe44",
   "metadata": {},
   "outputs": [],
   "source": [
    "# A for-each loop executes over all the elements in a list\n",
    "my_list = [2, 4, 6, 8]\n",
    "for elem in my_list:\n",
    "    print(f'{elem}!')\n",
    "print('Who do we appreciate??')"
   ]
  },
  {
   "cell_type": "code",
   "execution_count": null,
   "id": "0ce6198e",
   "metadata": {},
   "outputs": [],
   "source": [
    "# If you want the indices of the list as well in a for-each loop you can use enumerate\n",
    "my_list = [5, 1, 2, 8]\n",
    "for i, elem in enumerate(my_list):\n",
    "    print(f'The element at position {i} is {elem}')"
   ]
  },
  {
   "cell_type": "markdown",
   "id": "a18ede72",
   "metadata": {},
   "source": [
    "**Try it out!** Using a loop of your choice, copy the elements of `array_a` into `array_b`."
   ]
  },
  {
   "cell_type": "code",
   "execution_count": null,
   "id": "f8933fc6",
   "metadata": {},
   "outputs": [],
   "source": [
    "array_a = ['apple', 'banana', 'cucumber', 'durian']\n",
    "array_b = [0, 1, 2, 3]"
   ]
  },
  {
   "cell_type": "code",
   "execution_count": null,
   "id": "29fe060c",
   "metadata": {},
   "outputs": [],
   "source": [
    "# Your code here\n"
   ]
  },
  {
   "cell_type": "markdown",
   "id": "c87e3873",
   "metadata": {},
   "source": [
    "### `break` and `continue`\n",
    "\n",
    "These commands give you control over your loops from within the loops themselves."
   ]
  },
  {
   "cell_type": "code",
   "execution_count": null,
   "id": "8ce13e61",
   "metadata": {},
   "outputs": [],
   "source": [
    "# while True never ends...\n",
    "times = 0\n",
    "while True:\n",
    "    times += 1\n",
    "    print(f'{times} times already...')\n",
    "    if times > 10:\n",
    "        print(\"That's enough!\")\n",
    "        break # ... unless?"
   ]
  },
  {
   "cell_type": "code",
   "execution_count": null,
   "id": "84853a5b",
   "metadata": {},
   "outputs": [],
   "source": [
    "# you can tell your loop to jump to the next iteration early\n",
    "for i in range(10):\n",
    "    if i % 2 == 0:\n",
    "        continue\n",
    "    print(f'{i} is odd')"
   ]
  },
  {
   "cell_type": "code",
   "execution_count": null,
   "id": "cfd83f9b",
   "metadata": {},
   "outputs": [],
   "source": [
    "# break only breaks out of one layer of loops; if you have nested loops, the outer loop will keep going\n",
    "for i in range(10):\n",
    "    for j in range(10):\n",
    "        print(j, end='')\n",
    "        if j == i:\n",
    "            break\n",
    "    print('')"
   ]
  },
  {
   "cell_type": "markdown",
   "id": "fc9c04e3",
   "metadata": {},
   "source": [
    "### Comprehensions\n",
    "\n",
    "Comprehensions are a very powerful Python-specific syntax that lets you generate lists and dictionaries without having to write long loops. Used effectively, they can shorten code significantly."
   ]
  },
  {
   "cell_type": "code",
   "execution_count": null,
   "id": "58bbe924",
   "metadata": {},
   "outputs": [],
   "source": [
    "# Loop\n",
    "my_list = []\n",
    "for i in range(5):\n",
    "    my_list.append(2*i)\n",
    "print(my_list)\n",
    "\n",
    "# List comprehension\n",
    "print([2*i for i in range(5)])"
   ]
  },
  {
   "cell_type": "code",
   "execution_count": null,
   "id": "93b4d14c",
   "metadata": {},
   "outputs": [],
   "source": [
    "# Loop\n",
    "my_list = []\n",
    "for i in range(10):\n",
    "    if i % 2 == 0:\n",
    "        my_list.append(i)\n",
    "print(my_list)\n",
    "\n",
    "# List comprehension\n",
    "print([i for i in range(10) if i % 2 == 0])"
   ]
  },
  {
   "cell_type": "code",
   "execution_count": null,
   "id": "817aec96",
   "metadata": {},
   "outputs": [],
   "source": [
    "# Loop\n",
    "my_dict = {}\n",
    "for i in range(10):\n",
    "    if i % 2 == 0:\n",
    "        my_dict[i] = 'even'\n",
    "    else:\n",
    "        my_dict[i] = 'odd'\n",
    "print(my_dict)\n",
    "\n",
    "# Dictionary comprehension\n",
    "print({i: ('even' if i % 2 == 0 else 'odd') for i in range(10)})"
   ]
  },
  {
   "cell_type": "code",
   "execution_count": null,
   "id": "51d88f81",
   "metadata": {},
   "outputs": [],
   "source": [
    "# Quick note on the ternary operator\n",
    "b = 5\n",
    "if b % 2 == 0:\n",
    "    a = 'even'\n",
    "else:\n",
    "    a = 'odd'\n",
    "\n",
    "# This is equivalent\n",
    "a = 'even' if b % 2 == 0 else 'odd'"
   ]
  },
  {
   "cell_type": "markdown",
   "id": "adcb04df",
   "metadata": {},
   "source": [
    "**Try it out!** Convert one (or both) of the following examples into a list comprehension for `result`."
   ]
  },
  {
   "cell_type": "code",
   "execution_count": null,
   "id": "407c6780",
   "metadata": {},
   "outputs": [],
   "source": [
    "data = [0, 1, 2, 3, 4, 5, 6]"
   ]
  },
  {
   "cell_type": "code",
   "execution_count": null,
   "id": "b50e9095",
   "metadata": {},
   "outputs": [],
   "source": [
    "# Easy\n",
    "\n",
    "result = []\n",
    "for i in range(len(data)):\n",
    "    result.append(data[i] + i)\n",
    "print(result)"
   ]
  },
  {
   "cell_type": "code",
   "execution_count": null,
   "id": "b4180327",
   "metadata": {},
   "outputs": [],
   "source": [
    "# Hard\n",
    "\n",
    "result = []\n",
    "for i in range(len(data)-2):\n",
    "    window = []\n",
    "    for j in range(3):\n",
    "        window.append(data[i+j])\n",
    "    result.append(window)\n",
    "print(result)"
   ]
  },
  {
   "cell_type": "code",
   "execution_count": null,
   "id": "cf62e353",
   "metadata": {},
   "outputs": [],
   "source": [
    "# Your code here\n"
   ]
  },
  {
   "cell_type": "markdown",
   "id": "f2a5d047",
   "metadata": {},
   "source": [
    "# 5. Functions\n",
    "\n",
    "Sometimes (a lot of the time, really), you will have a particular task or piece of logic that you want to execute the same way in different places. A function basically lets you give that piece of code a name and use it everywhere while only writing it out once. This is good programming technique, because we always want a **single point of control** so we don't have to make the same change in multiple places (and potentially introduce bugs).\n",
    "\n",
    "Thankfully, functions in programming are pretty much the same idea as functions in math.\n",
    "\n",
    "In general, an arbitrary function can be described as $f(\\vec{x}) = \\vec{y}$ where\n",
    "\n",
    "- $\\vec{x}$ is a list of input parameters\n",
    "- $\\vec{y}$ is a list of outputs\n",
    "\n",
    "Let's see what the syntax looks like."
   ]
  },
  {
   "cell_type": "code",
   "execution_count": null,
   "id": "96304770",
   "metadata": {},
   "outputs": [],
   "source": [
    "def quadratic(x, a=1, b=1, c=1):\n",
    "    result = a * x**2 + b * x + c\n",
    "    return result\n",
    "\n",
    "print(f'x^2 + x + 1 = {quadratic(2)} at x = 2')\n",
    "print(f'2x^2 + 3x + 4 = {quadratic(2, 2, 3, 4)} at x = 2')"
   ]
  },
  {
   "cell_type": "markdown",
   "id": "455c619c",
   "metadata": {},
   "source": [
    "Okay, let's break down the different parts of this.\n",
    "\n",
    "### Parameters and Arguments\n",
    "\n",
    "Parameters define the inputs to the function. They can be accessed as variables within the function body and used for internal logic. Function parameters and argument passing can get complicated in Python, but to first order there are two types of parameters you can define:\n",
    "\n",
    "- Positional parameters (parameter `x` in the `quadratic` example): these must be passed in when the function is called for the function to work properly"
   ]
  },
  {
   "cell_type": "code",
   "execution_count": null,
   "id": "4178d1aa",
   "metadata": {},
   "outputs": [],
   "source": [
    "quadratic() # this will cause a tantrum"
   ]
  },
  {
   "cell_type": "markdown",
   "id": "44998125",
   "metadata": {},
   "source": [
    "- Optional parameters (parameters `a` `b` and `c` in the `quadratic` example): these do not have to be passed in, and if they are left unspecified, the default value will be used instead"
   ]
  },
  {
   "cell_type": "code",
   "execution_count": null,
   "id": "1018d23e",
   "metadata": {},
   "outputs": [],
   "source": [
    "print(quadratic(1))         # computes x^2 + x + 1 with x=1\n",
    "print(quadratic(1, b=2))    # computes x^2 + 2x + 1 with x=1\n",
    "print(quadratic(1, 2, c=3)) # computes 2x^2 + 3x + 1 with x=1"
   ]
  },
  {
   "cell_type": "markdown",
   "id": "ef1252c3",
   "metadata": {},
   "source": [
    "As you may have noticed from the previous examples, you can either pass arguments to a function in the exact order they're defined in the function parameters (ex. `quadratic(2, 2, 3, 4)`), or you can use \"keyword\" arguments by specifying the name of the argument you want to assign (ex. `quadratic(x=2, a=2, b=3, c=4)`).\n",
    "\n",
    "Aside on vocabulary: **parameter** refers to the variable in the function *definition*; **argument** refers to the actual value you give the variable when you *call* the function.\n",
    "\n",
    "**Try it out!** Using the `quadratic` function defined above, compute $f(2)$ for $f(x) = 3x^2 + 1$ in three different ways."
   ]
  },
  {
   "cell_type": "code",
   "execution_count": null,
   "id": "a614cd34",
   "metadata": {},
   "outputs": [],
   "source": [
    "# Your code here\n"
   ]
  },
  {
   "cell_type": "markdown",
   "id": "e2be3916",
   "metadata": {},
   "source": [
    "### The `return` Statement\n",
    "\n",
    "Now that we've talked about what goes into a function, let's talk about what comes out. There are three ways of ending a function execution:\n",
    "\n",
    "1. Do nothing. The function will implicitly return `None` (think `null` in other languages)"
   ]
  },
  {
   "cell_type": "code",
   "execution_count": null,
   "id": "9e8478da",
   "metadata": {},
   "outputs": [],
   "source": [
    "def hello():\n",
    "    print('Hello World')\n",
    "\n",
    "result = hello()\n",
    "print(result)"
   ]
  },
  {
   "cell_type": "markdown",
   "id": "7ca9b5fa",
   "metadata": {},
   "source": [
    "2. Use `return` with no argument. This explicitly ends the function, implicitly returning `None`"
   ]
  },
  {
   "cell_type": "code",
   "execution_count": null,
   "id": "72e1cd34",
   "metadata": {},
   "outputs": [],
   "source": [
    "def somewhat_useless():\n",
    "    print('This will print')\n",
    "    return\n",
    "    print('This will not')\n",
    "\n",
    "result = somewhat_useless()\n",
    "print(result)"
   ]
  },
  {
   "cell_type": "markdown",
   "id": "cba57ebd",
   "metadata": {},
   "source": [
    "3. Use `return` with an argument (or many). This ends the function and returns the argument (see examples above using `quadratic`). If there are multiple arguments, they will be returned as a tuple."
   ]
  },
  {
   "cell_type": "code",
   "execution_count": null,
   "id": "28cb1319",
   "metadata": {},
   "outputs": [],
   "source": [
    "def return_many(x):\n",
    "    return x, 2*x, 3*x\n",
    "\n",
    "result = return_many(3)\n",
    "print(result)"
   ]
  },
  {
   "cell_type": "markdown",
   "id": "f057ed34",
   "metadata": {},
   "source": [
    "### Typing in Python\n",
    "\n",
    "For those of you who've used other languages before, you're probably a bit flabbergasted by the lack of typing on both function parameters and returns in Python. Remember, Python Doesn't Care™. The rest of you might be wondering what is meant by \"typing\" in this context, so let's explain:\n",
    "\n",
    "- As previously discussed, `int`, `float`, `str`, etc. are all \"types\" of data\n",
    "- Generally speaking, you want your functions to both take in and output data of consistent types\n",
    "- Python trusts all of that to the programmer and **doesn't have any kind of built-in type-checking**\n",
    "\n",
    "In Python 3, you can put typing information in the function definition, but it's essentially just a comment because Python doesn't check anyway..."
   ]
  },
  {
   "cell_type": "code",
   "execution_count": null,
   "id": "a604ca6a",
   "metadata": {},
   "outputs": [],
   "source": [
    "def please_give_me_numbers(a: float, b: float) -> float:\n",
    "    return a + b\n",
    "\n",
    "print(please_give_me_numbers('oopsie ', 'poopsie'))"
   ]
  },
  {
   "cell_type": "code",
   "execution_count": null,
   "id": "05d296a3",
   "metadata": {},
   "outputs": [],
   "source": [
    "# If you really really need to make sure the imports are a certain type you can enforce it yourself\n",
    "def give_me_numbers_or_else(a: float, b: float) -> float:\n",
    "    if type(a) != float or type(b) != float:\n",
    "        raise TypeError('HOW DARE >:(')\n",
    "    return a + b\n",
    "\n",
    "print(give_me_numbers_or_else(1.2, 2.1))\n",
    "print(give_me_numbers_or_else('oopsie ', 'poopsie'))"
   ]
  },
  {
   "cell_type": "markdown",
   "id": "dacfa3e3",
   "metadata": {},
   "source": [
    "### Your turn!\n",
    "\n",
    "1. Write a function that takes in a noun (string) and inserts it into the sentence \"My favourite food is \\_\\_\\_\". You may either return the string or print the result (or both!).\n",
    "2. Write a function that computes the factorial of a non-negative integer (don't forget $0!=1$).\n",
    "3. Write a function that finds the median of a list of numbers.\n",
    "4. Write a function that takes in two lists of numbers (vectors) and returns their dot product. You may assume the inputs are the same length. Recall\n",
    "$$\\vec{a}\\cdot\\vec{b} = a_1b_1+a_2b_2+...+a_nb_n$$\n",
    "5. Write a function that returns the $n$th Fibbonaci number, where $n$ is supplied in a parameter. The Fibbonaci numbers are defined as\n",
    "\n",
    "$$F_1 = F_2 = 1\\\\F_n = F_{n-1} + F_{n-2}, \\ n>2$$"
   ]
  },
  {
   "cell_type": "code",
   "execution_count": null,
   "id": "412afbad",
   "metadata": {},
   "outputs": [],
   "source": [
    "# Your code here\n"
   ]
  },
  {
   "cell_type": "markdown",
   "id": "4e25836a",
   "metadata": {},
   "source": [
    "# 6. NumPy\n",
    "\n",
    "Everything we've talked about so far has been within the \"vanilla\" framework of Python; i.e. it can be done without installing packages or even importing any libraries. If you want to use Python for scientific purposes, however, there are a few packages that are indispensible. The first is __[NumPy](https://numpy.org/)__."
   ]
  },
  {
   "cell_type": "code",
   "execution_count": null,
   "id": "c516db34",
   "metadata": {},
   "outputs": [],
   "source": [
    "import numpy as np"
   ]
  },
  {
   "cell_type": "markdown",
   "id": "ac87d1d4",
   "metadata": {},
   "source": [
    "### numpy `ndarray`s\n",
    "\n",
    "On top of adding a bunch of math functions, numpy introduces an extremely powerful new data type: the `ndarray`. For those of you who know linear algebra or have MATLAB experience, think of these as matrices. For everyone else, just think of them as Python lists on steroids.\n",
    "\n",
    "- All elements in a numpy array have to be the same data type\n",
    "- numpy arrays can have an arbitrary number of dimensions (as opposed to just one dimension in a Python list)\n",
    "\n",
    "There are several ways to create a new numpy array:"
   ]
  },
  {
   "cell_type": "code",
   "execution_count": null,
   "id": "ce67b2a5",
   "metadata": {},
   "outputs": [],
   "source": [
    "# convert Python list into numpy array\n",
    "my_list = [4, 2, 1, 5]\n",
    "array = np.array(my_list)\n",
    "print(array)"
   ]
  },
  {
   "cell_type": "code",
   "execution_count": null,
   "id": "fda0ce39",
   "metadata": {},
   "outputs": [],
   "source": [
    "# convert list of lists into numpy array\n",
    "my_list = [[2,3,4],[5,6,7]]\n",
    "array = np.array(my_list)\n",
    "print(array)"
   ]
  },
  {
   "cell_type": "code",
   "execution_count": null,
   "id": "fbb9a4f7",
   "metadata": {},
   "outputs": [],
   "source": [
    "# create a numpy array of zeros\n",
    "shape = (2, 3) # 2 rows, 3 columns\n",
    "zeros = np.zeros(shape)\n",
    "print(zeros)"
   ]
  },
  {
   "cell_type": "code",
   "execution_count": null,
   "id": "3f84f251",
   "metadata": {},
   "outputs": [],
   "source": [
    "# create a numpy array filled with some initial value\n",
    "shape = (2, 3)\n",
    "value = 11\n",
    "array = np.full(shape, value)\n",
    "print(array)"
   ]
  },
  {
   "cell_type": "code",
   "execution_count": null,
   "id": "4fcf5f44",
   "metadata": {},
   "outputs": [],
   "source": [
    "# create a 1D numpy array corresponding to the built-in range function\n",
    "print(np.arange(2, 12, 3))"
   ]
  },
  {
   "cell_type": "code",
   "execution_count": null,
   "id": "ddeb850a",
   "metadata": {},
   "outputs": [],
   "source": [
    "# create a 1D numpy array of a set number of elements between two values with equal spacing\n",
    "print(np.linspace(1, 5, 11))"
   ]
  },
  {
   "cell_type": "markdown",
   "id": "20f0feae",
   "metadata": {},
   "source": [
    "### Indexing Arrays\n",
    "\n",
    "numpy arrays can be indexed in the same ways as Python lists, and then some."
   ]
  },
  {
   "cell_type": "code",
   "execution_count": null,
   "id": "40fb8e17",
   "metadata": {},
   "outputs": [],
   "source": [
    "array = np.array([[0,1,2], [3,4,5], [6,7,8]])\n",
    "print(array)"
   ]
  },
  {
   "cell_type": "code",
   "execution_count": null,
   "id": "112d9410",
   "metadata": {},
   "outputs": [],
   "source": [
    "array[1]"
   ]
  },
  {
   "cell_type": "code",
   "execution_count": null,
   "id": "58483196",
   "metadata": {},
   "outputs": [],
   "source": [
    "array[1, 0]"
   ]
  },
  {
   "cell_type": "code",
   "execution_count": null,
   "id": "087e2659",
   "metadata": {},
   "outputs": [],
   "source": [
    "array[:, 1]"
   ]
  },
  {
   "cell_type": "code",
   "execution_count": null,
   "id": "30d1997b",
   "metadata": {},
   "outputs": [],
   "source": [
    "array[1:,:2]"
   ]
  },
  {
   "cell_type": "code",
   "execution_count": null,
   "id": "fe5e6b5a",
   "metadata": {},
   "outputs": [],
   "source": [
    "array[::2, :2]"
   ]
  },
  {
   "cell_type": "markdown",
   "id": "e3deb3c6",
   "metadata": {},
   "source": [
    "**Try it out!** Given the following array, how would you get\n",
    "\n",
    "- the 3rd column?\n",
    "- the last two rows?\n",
    "- the element in every second row *and* column?"
   ]
  },
  {
   "cell_type": "code",
   "execution_count": null,
   "id": "fd39e019",
   "metadata": {},
   "outputs": [],
   "source": [
    "array = np.array([\n",
    "    [0,1,2,3,4],\n",
    "    [1,1,2,3,4],\n",
    "    [2,1,2,3,4],\n",
    "    [3,1,2,3,4],\n",
    "    [4,1,2,3,4]\n",
    "])"
   ]
  },
  {
   "cell_type": "code",
   "execution_count": null,
   "id": "221c2079",
   "metadata": {},
   "outputs": [],
   "source": [
    "# Your code here\n"
   ]
  },
  {
   "cell_type": "markdown",
   "id": "4975e386",
   "metadata": {},
   "source": [
    "### Array/Vector Arithmetic\n",
    "\n",
    "The standard Python arithmetic operators also work with numpy arrays."
   ]
  },
  {
   "cell_type": "code",
   "execution_count": null,
   "id": "35a9e9de",
   "metadata": {},
   "outputs": [],
   "source": [
    "array = np.array([\n",
    "    [1,1,1],\n",
    "    [2,2,2],\n",
    "    [3,3,3]\n",
    "])\n",
    "\n",
    "array + 1"
   ]
  },
  {
   "cell_type": "code",
   "execution_count": null,
   "id": "1914f1a9",
   "metadata": {},
   "outputs": [],
   "source": [
    "array - 1"
   ]
  },
  {
   "cell_type": "code",
   "execution_count": null,
   "id": "546d5c57",
   "metadata": {},
   "outputs": [],
   "source": [
    "array * 2"
   ]
  },
  {
   "cell_type": "code",
   "execution_count": null,
   "id": "802a8b67",
   "metadata": {},
   "outputs": [],
   "source": [
    "array / 3"
   ]
  },
  {
   "cell_type": "code",
   "execution_count": null,
   "id": "c8106bb5",
   "metadata": {},
   "outputs": [],
   "source": [
    "array ** 2"
   ]
  },
  {
   "cell_type": "markdown",
   "id": "48703882",
   "metadata": {},
   "source": [
    "What about doing arithmetic with two arrays? Assuming the arrays are the same shape, the arithmetic operations are done **element-wise**:"
   ]
  },
  {
   "cell_type": "code",
   "execution_count": null,
   "id": "d4614c98",
   "metadata": {},
   "outputs": [],
   "source": [
    "array1 = np.array([0, 1, 2])\n",
    "array2 = np.array([3, 4, 5])\n",
    "\n",
    "array1 + array2"
   ]
  },
  {
   "cell_type": "code",
   "execution_count": null,
   "id": "c26ca64a",
   "metadata": {},
   "outputs": [],
   "source": [
    "array1 ** array2"
   ]
  },
  {
   "cell_type": "code",
   "execution_count": null,
   "id": "9ea31bc5",
   "metadata": {},
   "outputs": [],
   "source": [
    "array3 = np.array([1, 2, 3, 4])\n",
    "\n",
    "array1 + array3 # won't work because the arrays aren't the same size!"
   ]
  },
  {
   "cell_type": "markdown",
   "id": "e1f63db7",
   "metadata": {},
   "source": [
    "The basic Python arithmetic operators won't be enough for all applications. That's where numpy's own library functions come in."
   ]
  },
  {
   "cell_type": "code",
   "execution_count": null,
   "id": "0dcd7b97",
   "metadata": {},
   "outputs": [],
   "source": [
    "array1 = np.array([0, 1, 2])\n",
    "array2 = np.array([3, 4, 5])\n",
    "\n",
    "np.dot(array1, array2) # dot product"
   ]
  },
  {
   "cell_type": "code",
   "execution_count": null,
   "id": "f243beda",
   "metadata": {},
   "outputs": [],
   "source": [
    "np.cross(array1, array2) # cross product"
   ]
  },
  {
   "cell_type": "markdown",
   "id": "7d56ef9f",
   "metadata": {},
   "source": [
    "If you need any kind of math operation (or even constants, such as `np.pi`), consult the numpy documentation and there's probably something there for your needs!\n",
    "\n",
    "**A note on vectorized operations:** Doing operations with entire arrays is very fast because numpy is optimized for such so-called \"vectorized\" operations (its backend actually bypasses Python and uses C for parallel processing magic). To take advantage of this, avoid using loops and try to perform operations with entire arrays whenever you can. Here's a demonstration:"
   ]
  },
  {
   "cell_type": "code",
   "execution_count": null,
   "id": "ca01c0b1",
   "metadata": {},
   "outputs": [],
   "source": [
    "from time import time\n",
    "\n",
    "a = np.arange(2**15)\n",
    "b = np.arange(2**15)\n",
    "\n",
    "start = time()\n",
    "# adding a and b element-wise using a for loop\n",
    "c = []\n",
    "for i in range(len(a)):\n",
    "    c.append(a[i] + b[i])\n",
    "stop = time()\n",
    "print('Looping computation finished in %.4f s' % (stop-start))\n",
    "\n",
    "start = time()\n",
    "# adding a and b using vectorized addition\n",
    "c = a + b\n",
    "stop = time()\n",
    "print(f'Vectorized computation finished in %.4f s' % (stop-start))"
   ]
  },
  {
   "cell_type": "markdown",
   "id": "442a89e7",
   "metadata": {},
   "source": [
    "### Boolean Arrays\n",
    "\n",
    "Arithmetic operators aren't the only operators that work on numpy arrays; logical operators work too."
   ]
  },
  {
   "cell_type": "code",
   "execution_count": null,
   "id": "2271f57c",
   "metadata": {},
   "outputs": [],
   "source": [
    "array = np.arange(10)\n",
    "\n",
    "array < 3"
   ]
  },
  {
   "cell_type": "code",
   "execution_count": null,
   "id": "b2f56fbb",
   "metadata": {},
   "outputs": [],
   "source": [
    "array >= 5"
   ]
  },
  {
   "cell_type": "code",
   "execution_count": null,
   "id": "3b6c96f7",
   "metadata": {},
   "outputs": [],
   "source": [
    "array1 = np.array([0, 1, 2, 3, 4])\n",
    "array2 = np.array([-1, -2, -3, 5, 6])\n",
    "\n",
    "array1 < array2"
   ]
  },
  {
   "cell_type": "markdown",
   "id": "5fda52c5",
   "metadata": {},
   "source": [
    "The arrays that result from these comparisons are called boolean arrays (because they contain boolean values). numpy arrays can be indexed using boolean arrays:"
   ]
  },
  {
   "cell_type": "code",
   "execution_count": null,
   "id": "1f631fc7",
   "metadata": {},
   "outputs": [],
   "source": [
    "select = np.array([True, False, True, False])\n",
    "array = np.arange(4)\n",
    "\n",
    "array[select]"
   ]
  },
  {
   "cell_type": "code",
   "execution_count": null,
   "id": "936bf36c",
   "metadata": {},
   "outputs": [],
   "source": [
    "array = np.array([1, 4, -5, 2, -2])\n",
    "\n",
    "array[array > 1]"
   ]
  },
  {
   "cell_type": "markdown",
   "id": "a45b4ce2",
   "metadata": {},
   "source": [
    "Note: in order to make element-wise logical operations using numpy arrays, you have to use the bitwise operators instead of the logical operators (`&` instead of `and` and `|` instead of `or`)."
   ]
  },
  {
   "cell_type": "code",
   "execution_count": null,
   "id": "978be619",
   "metadata": {},
   "outputs": [],
   "source": [
    "array[(array > 3) | (array < 0)]"
   ]
  },
  {
   "cell_type": "code",
   "execution_count": null,
   "id": "c5fe3301",
   "metadata": {},
   "outputs": [],
   "source": [
    "array[(array >= -2) & (array <= 2)]"
   ]
  },
  {
   "cell_type": "markdown",
   "id": "90dbb915",
   "metadata": {},
   "source": [
    "### Advanced Array Indexing\n",
    "\n",
    "You can index numpy arrays using other numpy arrays. As you saw in the previous section, this can be done using a boolean array of a compatible shape, but you can also use integer arrays to select specific indices:"
   ]
  },
  {
   "cell_type": "code",
   "execution_count": null,
   "id": "709d090d",
   "metadata": {},
   "outputs": [],
   "source": [
    "array = 2 * np.arange(10)\n",
    "indices = np.array([1, 5, 6, 9])\n",
    "\n",
    "array[indices]"
   ]
  },
  {
   "cell_type": "code",
   "execution_count": null,
   "id": "0a1abd8d",
   "metadata": {},
   "outputs": [],
   "source": [
    "array = np.array([\n",
    "    [0,1,2,3,4],\n",
    "    [1,1,2,3,4],\n",
    "    [2,1,2,3,4],\n",
    "    [3,1,2,3,4],\n",
    "    [4,1,2,3,4]\n",
    "])\n",
    "select_rows = np.array([1, 3])\n",
    "\n",
    "array[select_rows]"
   ]
  },
  {
   "cell_type": "code",
   "execution_count": null,
   "id": "aff3873b",
   "metadata": {},
   "outputs": [],
   "source": [
    "select_subarrays = np.array([[1,3], [2,4]])\n",
    "\n",
    "array[select_subarrays]"
   ]
  },
  {
   "cell_type": "markdown",
   "id": "7f46941e",
   "metadata": {},
   "source": [
    "### Array Manipulation\n",
    "\n",
    "There's one last important topic to cover in our adventure with numpy arrays, and that's manipulating the structure of the arrays themselves. The first function that helps with that is `reshape`:"
   ]
  },
  {
   "cell_type": "code",
   "execution_count": null,
   "id": "6d381752",
   "metadata": {},
   "outputs": [],
   "source": [
    "# Start with 4 rows, 4 columns\n",
    "array = np.array([\n",
    "    [0,0,0,0],\n",
    "    [1,1,1,1],\n",
    "    [2,2,2,2],\n",
    "    [3,3,3,3],\n",
    "])\n",
    "\n",
    "array.reshape(2, 8) # 2 rows, 8 columns"
   ]
  },
  {
   "cell_type": "code",
   "execution_count": null,
   "id": "076ec2fb",
   "metadata": {},
   "outputs": [],
   "source": [
    "array.reshape(8, 2) # 8 rows, 2 columns"
   ]
  },
  {
   "cell_type": "code",
   "execution_count": null,
   "id": "57cb70ce",
   "metadata": {},
   "outputs": [],
   "source": [
    "array.reshape(16) # 1 row"
   ]
  },
  {
   "cell_type": "code",
   "execution_count": null,
   "id": "cb32f4c0",
   "metadata": {},
   "outputs": [],
   "source": [
    "array.reshape(2, -1) # -1 tells numpy to fill whatever shape is necessary to satisfy the rest of the requirements"
   ]
  },
  {
   "cell_type": "code",
   "execution_count": null,
   "id": "4ed82dc7",
   "metadata": {},
   "outputs": [],
   "source": [
    "array.flatten() # flatten is a special function to reduce an array to a single row (equivalent to reshape(-1))"
   ]
  },
  {
   "cell_type": "markdown",
   "id": "db376018",
   "metadata": {},
   "source": [
    "What about combining multiple arrays? That's a job for `concatenate` and `stack`:"
   ]
  },
  {
   "cell_type": "code",
   "execution_count": null,
   "id": "4e43d28b",
   "metadata": {},
   "outputs": [],
   "source": [
    "array0 = np.zeros(5)\n",
    "array1 = np.ones(5)\n",
    "to_combine = (array0, array1)"
   ]
  },
  {
   "cell_type": "code",
   "execution_count": null,
   "id": "08d75e09",
   "metadata": {},
   "outputs": [],
   "source": [
    "np.concatenate(to_combine)"
   ]
  },
  {
   "cell_type": "code",
   "execution_count": null,
   "id": "3b8a20ea",
   "metadata": {},
   "outputs": [],
   "source": [
    "np.stack(to_stack, axis=0)"
   ]
  },
  {
   "cell_type": "code",
   "execution_count": null,
   "id": "b4809471",
   "metadata": {},
   "outputs": [],
   "source": [
    "np.stack(to_stack, axis=1)"
   ]
  },
  {
   "cell_type": "markdown",
   "id": "fe6c90ee",
   "metadata": {},
   "source": [
    "### Your turn!\n",
    "\n",
    "Whew, that was a lot to process. Let's put it into practice. Using the array provided, try doing the following:\n",
    "\n",
    "1. Reshape the array into a single column.\n",
    "2. Using array indexing, select the 1st and last rows.\n",
    "3. Flatten the array into a single row and count the number of times the number 2 occurs.\n",
    "4. Using array indexing, produce an array that consists of the four 2x2 sub-arrays at the corners of the array."
   ]
  },
  {
   "cell_type": "code",
   "execution_count": null,
   "id": "b4ccbabc",
   "metadata": {},
   "outputs": [],
   "source": [
    "array = np.array([\n",
    "    [0,1,2,3,4],\n",
    "    [1,1,2,3,4],\n",
    "    [2,1,2,3,4],\n",
    "    [3,1,2,3,4],\n",
    "    [4,1,2,3,4]\n",
    "])"
   ]
  },
  {
   "cell_type": "code",
   "execution_count": null,
   "id": "2feb2f08",
   "metadata": {},
   "outputs": [],
   "source": [
    "# Your code here\n"
   ]
  },
  {
   "cell_type": "markdown",
   "id": "6a4be9af",
   "metadata": {},
   "source": [
    "# 7. Matplotlib\n",
    "\n",
    "Having all these ways of representing data is all well and good, but what about visualizing it? The most common Python plotting library used in scientific settings is __[Matplotlib](https://matplotlib.org/)__."
   ]
  },
  {
   "cell_type": "code",
   "execution_count": null,
   "id": "f431890f",
   "metadata": {},
   "outputs": [],
   "source": [
    "import matplotlib.pyplot as plt\n",
    "\n",
    "# tells the notebook to display graphs\n",
    "%matplotlib inline"
   ]
  },
  {
   "cell_type": "markdown",
   "id": "3dac0fbb",
   "metadata": {},
   "source": [
    "Matplotlib provides an object-oriented interface for generating plots. The core functionality of plots is represented by `Figure` and `Axes` objects. The axes represent the individual subplot canvases, and the figure represents the plot as a whole. Let's see it in action, shall we?"
   ]
  },
  {
   "cell_type": "code",
   "execution_count": null,
   "id": "64ba6fe6",
   "metadata": {},
   "outputs": [],
   "source": [
    "fig, axs = plt.subplots(2, 3) # 2 rows, 3 columns\n",
    "fig.show() # not strictly necessary in a notebook, but it's required if you're running a .py script"
   ]
  },
  {
   "cell_type": "markdown",
   "id": "e23032e6",
   "metadata": {},
   "source": [
    "Not too impressive on its own, but now we have something to work with. Now to plot something. We'll start with the most basic kind of plot:"
   ]
  },
  {
   "cell_type": "code",
   "execution_count": null,
   "id": "7b5f735e",
   "metadata": {},
   "outputs": [],
   "source": [
    "fig, ax = plt.subplots(1, 1) # just 1 \"sub\"plot\n",
    "fig.suptitle('Plot of the sine function')\n",
    "\n",
    "x_data = np.linspace(-np.pi, np.pi, 101)\n",
    "ax.plot(x_data, np.sin(x_data))\n",
    "ax.set_xlabel('x')\n",
    "ax.set_ylabel('y = sin(x)')\n",
    "\n",
    "fig.show()"
   ]
  },
  {
   "cell_type": "markdown",
   "id": "a6455f7a",
   "metadata": {},
   "source": [
    "You can make a bunch of aesthetic adjustments to the plot:"
   ]
  },
  {
   "cell_type": "code",
   "execution_count": null,
   "id": "a55230ad",
   "metadata": {},
   "outputs": [],
   "source": [
    "fig, ax = plt.subplots(1, 1, figsize=(12, 8)) # make the figure bigger\n",
    "fig.suptitle('Fancy plot of trig functions')\n",
    "\n",
    "x_data = np.linspace(-np.pi, np.pi, 101)\n",
    "ax.plot(x_data, np.sin(x_data), label='sin(x)', color='r', marker='+', linestyle='dotted') # change the plot style\n",
    "ax.plot(x_data, np.cos(x_data), label='cos(x)', color='b', marker='.', linestyle='dashed') # add a second plot\n",
    "ax.set_xlabel('x')\n",
    "ax.set_ylabel('y')\n",
    "ax.legend() # add a legend\n",
    "ax.grid(True) # add a grid\n",
    "ax.set_xlim(-1, 1) # restrict window\n",
    "\n",
    "fig.show()"
   ]
  },
  {
   "cell_type": "markdown",
   "id": "20765e85",
   "metadata": {},
   "source": [
    "Another type of plot you can make is a scatter plot, where the order of the points doesn't matter:"
   ]
  },
  {
   "cell_type": "code",
   "execution_count": null,
   "id": "0336a0a9",
   "metadata": {},
   "outputs": [],
   "source": [
    "fig, ax = plt.subplots(1, 1, figsize=(8,8))\n",
    "\n",
    "gaussian_2d = np.random.normal(size=(2, 1000))\n",
    "# you can set individual Axes titles instead of the whole figure title\n",
    "ax.set_title(f'2D Gaussian distribution ({gaussian_2d.shape[-1]} samples)')\n",
    "ax.scatter(gaussian_2d[0], gaussian_2d[1])\n",
    "\n",
    "fig.show()"
   ]
  },
  {
   "cell_type": "markdown",
   "id": "b59c840b",
   "metadata": {},
   "source": [
    "Yet another type of plot is the histogram:"
   ]
  },
  {
   "cell_type": "code",
   "execution_count": null,
   "id": "d1c72ad3",
   "metadata": {},
   "outputs": [],
   "source": [
    "fig, axs = plt.subplots(1, 2, figsize=(16,8)) # two subplots side by side\n",
    "\n",
    "gaussian_2d = np.random.normal(size=(2, 1000))\n",
    "axs[0].set_title(f'2D Gaussian distribution ({gaussian_2d.shape[-1]} samples)')\n",
    "axs[0].scatter(gaussian_2d[0], gaussian_2d[1], s=3, color='k')\n",
    "\n",
    "distances = np.sqrt(gaussian_2d[0] ** 2 + gaussian_2d[1] ** 2) # Euclidean distance from (0,0)\n",
    "axs[1].set_title('Histogram of sample distance from origin')\n",
    "axs[1].hist(distances, bins=np.linspace(0,4,20)) # 20 bins between 0 and 4\n",
    "axs[1].set_ylabel('Samples')\n",
    "axs[1].set_xlabel('Euclidean distance from (0,0)')\n",
    "\n",
    "fig.show()"
   ]
  },
  {
   "cell_type": "markdown",
   "id": "53b88824",
   "metadata": {},
   "source": [
    "As you might have started to realize, using matplotlib is really just about reading the documentation on how to use different `Axes` methods to produce graphs for whatever you need to visualize. Here's some more advanced graph types for demonstration purposes (no, these will not be on the final exam):"
   ]
  },
  {
   "cell_type": "code",
   "execution_count": null,
   "id": "2d57ca11",
   "metadata": {},
   "outputs": [],
   "source": [
    "# Two-variable function as heatmap (z = x^2 - y^2)\n",
    "\n",
    "side = np.linspace(-1, 1, 100)\n",
    "X, Y = np.meshgrid(side, side)\n",
    "heatmap = X**2 - Y**2\n",
    "\n",
    "fig = plt.figure(figsize=(8,8))\n",
    "plt.imshow(heatmap, cmap='viridis')\n",
    "plt.xlabel('x')\n",
    "plt.ylabel('y')\n",
    "plt.title('Hyperbolic Paraboloid: $f(x, y) = x^2 - y^2$')\n",
    "plt.colorbar()\n",
    "\n",
    "fig.show()"
   ]
  },
  {
   "cell_type": "code",
   "execution_count": null,
   "id": "5e71d343",
   "metadata": {},
   "outputs": [],
   "source": [
    "# Vector field stream plot (dipole electric field)\n",
    "\n",
    "def efield_dip(b, q, r, theta):\n",
    "    outer = 4*b*q*k / r**3\n",
    "    r_comp = outer*2*np.cos(theta)\n",
    "    theta_comp = outer*np.sin(theta)\n",
    "    return r_comp, theta_comp\n",
    "\n",
    "def efield_dip_cartesian(b, q, x, y):\n",
    "    x_comp = (2*x**2 - y**2) / (x**2 + y**2)**(5/2)\n",
    "    y_comp = 3*x*y / (x**2 + y**2)**(5/2)\n",
    "    return x_comp, y_comp\n",
    "\n",
    "radius = 10\n",
    "side = np.linspace(-radius, radius, 100)\n",
    "X, Z = np.meshgrid(side, side)\n",
    "U, V = efield_dip_cartesian(2, 1, X, Z)\n",
    "\n",
    "fig, ax = plt.subplots(1, 1, figsize=(8,8))\n",
    "ax.streamplot(side, side, U, V, linewidth=1, density=2, arrowstyle='->', arrowsize=1.5)\n",
    "ax.set_xlabel('z')\n",
    "ax.set_ylabel('x')\n",
    "ax.set_title('Dipole E-field')\n",
    "\n",
    "fig.show()"
   ]
  },
  {
   "cell_type": "markdown",
   "id": "ebf22091",
   "metadata": {},
   "source": [
    "### Your Turn!\n",
    "\n",
    "Given the 1-dimensional Gaussian distribution provided below,\n",
    "1. Plot a histogram of the distribution with bins of width 0.1\n",
    "2. On the same plot, plot a Gaussian probability density function with a mean of 0 and standard deviation of 1; i.e.\n",
    "$$f(x) = \\frac{1}{\\sqrt{2\\pi}}\\exp\\left(-\\frac{x^2}{2}\\right)$$"
   ]
  },
  {
   "cell_type": "code",
   "execution_count": null,
   "id": "25550347",
   "metadata": {},
   "outputs": [],
   "source": [
    "data = np.random.normal(size=(1000, 1)) / 1000"
   ]
  },
  {
   "cell_type": "code",
   "execution_count": null,
   "id": "95471e3e",
   "metadata": {},
   "outputs": [],
   "source": [
    "# Your code here\n"
   ]
  },
  {
   "cell_type": "markdown",
   "id": "fd2434c7",
   "metadata": {},
   "source": [
    "# 8. SciPy\n",
    "\n",
    "__[SciPy](https://www.scipy.org/)__ is another package that is very common in scientific Python applications. It builds on top of numpy and adds a host of more advanced functionality such as\n",
    "\n",
    "- numerical differentiation\n",
    "- numerical integration\n",
    "- curve fitting\n",
    "- statistical models\n",
    "- Fourier transforms\n",
    "\n",
    "and the list goes on. The functionality of scipy could span an entire series of workshops, so for this one we'll just focus on two particularly useful applications: integration and curve fitting."
   ]
  },
  {
   "cell_type": "code",
   "execution_count": null,
   "id": "01fe7e03",
   "metadata": {},
   "outputs": [],
   "source": [
    "from scipy.integrate import quad\n",
    "from scipy.optimize import curve_fit"
   ]
  },
  {
   "cell_type": "markdown",
   "id": "db312f6d",
   "metadata": {},
   "source": [
    "### Integration\n",
    "\n",
    "As you may recall from Calculus 2, the definite integral of an arbitrary function can be approximated by slicing up the area under the curve into thin rectangles (zeroeth order), trapezoids (first order), parabolas (second order), etc. and summing up the areas of these slices. The smaller the slices, the better the approximation—but also the more tedious the work.\n",
    "\n",
    "<img src=\"Images/riemann_sums.png\" width=80%>\n",
    "\n",
    "Thankfully, computers don't get bored, so you can do some very good integral approximation with them.\n",
    "\n",
    "For most applications, `scipy.integrate.quad` is the best way to calculate a definite integral because of its ease of use. You can treat it as a black box that gives you an estimate for a definite integral of a function of your choice, as well as an error estimate (if you're curious about the implementation, feel free to consult the documentation as always; it's a bit more complicated than simple Riemann sums)."
   ]
  },
  {
   "cell_type": "code",
   "execution_count": null,
   "id": "30e83d3e",
   "metadata": {},
   "outputs": [],
   "source": [
    "def func(x):\n",
    "    return 2 * np.sin(x)\n",
    "\n",
    "integral, error = quad(func, 0, np.pi)\n",
    "print(f'The integral of f(x) = 2 sin(x) over [0, pi] is {integral} +/- {error}')"
   ]
  },
  {
   "cell_type": "markdown",
   "id": "4e5b1fda",
   "metadata": {},
   "source": [
    "To use the `quad` function, you need a bit of understanding of **function pointers**. You can think of function pointers as variables that represent a function itself, rather than the result the function returns. Notice how `func` doesn't have brackets around it in `quad(func, 0, np.pi)`. The details of how to use function pointers in Python programming is (once again) a very deep topic, but for the purposes of using `quad`, make sure the function that is passed in takes only one parameter and returns a one-dimensional result (i.e. it can be represented as $f(x) = y$).\n",
    "\n",
    "**Try it out!** Evaluate $\\int_0^\\infty x^{-2}\\ dx$ using `quad` (hint: `np.infinity` is a constant that is available to you)."
   ]
  },
  {
   "cell_type": "code",
   "execution_count": null,
   "id": "1cfbccc0",
   "metadata": {},
   "outputs": [],
   "source": [
    "# Your code here\n"
   ]
  },
  {
   "cell_type": "markdown",
   "id": "d5220382",
   "metadata": {},
   "source": [
    "### Curve Fitting\n",
    "\n",
    "Another extremely common use of computers in science is fitting models to data. There are a variety of ways to perform such analyses of best fit (many courses' worth, in fact), so for the purposes of this workshop let's just hand-wave on the details and ask a simple question: given a model defined by certain adjustable parameters, what values of these parameters fit the model best to a provided data set?\n",
    "\n",
    "Scipy comes equipped to provide you the answer to this very useful question in the form of `scipy.optimize.curve_fit`. `curve_fit` gives you a list of parameters (and their corresponding covariance matrix) for an input function and data of your choice such that the parameters minimize the residuals of the function and the data. Stated another way,\n",
    "\n",
    "$$\\vec{p^*} = \\texttt{curve_fit}(f, \\ x, \\ y))$$\n",
    "\n",
    "for some parametrized function $f(x, \\vec{p})$ is the set of optimal parameters $\\vec{p^*}$ that result in $f(x, \\vec{p^*}) \\approx y$ over the given dataset $(x, y)$. You can then use this optimal result to verify the model via other statistical tests (ex. $\\chi^2$).\n",
    "\n",
    "Here's what that looks like fitting a 1-dimensional Gaussian distribution:"
   ]
  },
  {
   "cell_type": "code",
   "execution_count": null,
   "id": "67c35d72",
   "metadata": {},
   "outputs": [],
   "source": [
    "data = np.random.normal(size=(1000, 1))\n",
    "\n",
    "# Generate and plot histogram\n",
    "fig, ax = plt.subplots(1, 1, figsize=(12,8))\n",
    "bins, step = np.linspace(-4, 4, 101, retstep=True)\n",
    "histogram, _, _ = ax.hist(data, bins, label='Data distribution')\n",
    "x_values = bins[:-1] + step/2\n",
    "\n",
    "def parametrized_gaussian(x, amplitude, stdev, mean):\n",
    "    return (\n",
    "        amplitude * np.exp(-0.5 * ((x-mean)/stdev) ** 2)\n",
    "        / (stdev * np.sqrt(2*np.pi))\n",
    "    )\n",
    "\n",
    "# Fit gaussian distribution\n",
    "params, pcov = curve_fit(parametrized_gaussian, x_values, histogram)\n",
    "# diagonal entries of covariance matrix correspond to standard error of fitted parameters\n",
    "# (assuming uncorrelated parameters)\n",
    "errors = np.diag(pcov) \n",
    "\n",
    "print('Fitted amplitude: %.3f +/- %.3f' % (params[0], errors[0]))\n",
    "print('Fitted standard deviation: %.3f +/- %.3f' % (params[1], errors[1]))\n",
    "print('Fitted mean: %.3f +/- %.3f' % (params[1], errors[1]))\n",
    "\n",
    "# Plot gaussian distribution\n",
    "x_plot = np.linspace(-4, 4, 1001)\n",
    "ax.plot(x_plot, parametrized_gaussian(x_plot, *params), label='Fitted Gaussian', linewidth=3)\n",
    "ax.legend()\n",
    "ax.grid(True)\n",
    "\n",
    "fig.show()"
   ]
  },
  {
   "cell_type": "markdown",
   "id": "6d268c31",
   "metadata": {},
   "source": [
    "**A note on spread operators:** What the heck is the `*` in the function call `parametrized_gaussian(x_plot, *params)` doing? This is called a \"spread operator\". `params` is a list, and `*params` separates the list into individual elements. These elements can then be passed in the order they appear in the list back into the function `parametrized_gaussian` as positional arguments. Thus,\n",
    "```python\n",
    "parametrized_gaussian(x_plot, *params)\n",
    "```\n",
    "is equivalent to\n",
    "```python\n",
    "parametrized_gaussian(x_plot, params[0], params[1], params[2])\n",
    "```\n",
    "\n",
    "**Try it out!** The following is from [epidemiological data provided by the CDC](http://www.bccdc.ca/health-info/diseases-conditions/covid-19/data#variants) about COVID-19 cases in British Columbia. What kind of a trend do you see? Hypothesize a model, and try fitting your model to the data in `total_data` using `curve_fit`."
   ]
  },
  {
   "cell_type": "code",
   "execution_count": null,
   "id": "b5b574ff",
   "metadata": {},
   "outputs": [],
   "source": [
    "test_data = [7087, 8238, 7272, 6441, 5571, 4628, 3773, 2896, 2101, 1419, 1016]\n",
    "total_data = []\n",
    "infected = 0\n",
    "for val in test_data:\n",
    "    infected += val\n",
    "    total_data.append(infected)\n",
    "\n",
    "fig, ax = plt.subplots(1, 1, figsize = (9, 6))\n",
    "ax.plot(total_data, 'k+')\n",
    "ax.set_title('New COVID-19 infections in BC since mid-April')\n",
    "ax.set_ylabel('New positive tests')\n",
    "ax.set_xlabel('Weeks since April 14, 2021')\n",
    "ax.grid(True)\n",
    "fig.show()"
   ]
  },
  {
   "cell_type": "code",
   "execution_count": null,
   "id": "c977201d",
   "metadata": {},
   "outputs": [],
   "source": [
    "# Your code here\n"
   ]
  },
  {
   "cell_type": "markdown",
   "id": "f86aa7f3",
   "metadata": {},
   "source": [
    "# Challenge Problems\n",
    "\n",
    "If you made it this far and are *still* looking for more, here's some advanced problems that are (probably) doable using the techniques introduced in this workshop—and a healthy helping of cleverness, of course. Some of these will probably take a while; feel free to work on them at home.\n",
    "\n",
    "1. Using the same dictionary representation of nodes in a binary tree that you came up with in [section 3](#Dictionaries), implement a [binary search tree](https://en.wikipedia.org/wiki/Binary_search_tree) with `find` and `insert` functions.\n",
    "2. Using numpy arrays as the basic object to represent the game board, implement a two-player tic-tac-toe game. You can use Python's built-in `input` function to accept user input from the keyboard. For a further challenge, try making the game single-player against the computer. Since tic-tac-toe is a relatively simple solved game, you should be able to make the AI unbeatable with the right conditional logic.\n",
    "3. Plot the [Mandelbrot Set](https://en.wikipedia.org/wiki/Mandelbrot_set): the set of numbers $c$ in the complex plane such that the series $z_0 = 0, \\ z_{n+1} = z_n^2 + c$ remains bounded as $n \\rightarrow \\infty$; i.e. $c\\in \\mathbb{C} \\ \\text{s.t.} \\ \\lim_{n\\to\\infty} |z_n(c)| < \\infty$. Note that complex numbers are already a built-in data type in numpy (and scipy).\n",
    "\n",
    "I'm excited to see what you make of these! Send solutions (even semi-functional ones) to my email, or find me on the Physics Society Discord server and let's chat."
   ]
  },
  {
   "cell_type": "code",
   "execution_count": null,
   "id": "eeb81997",
   "metadata": {},
   "outputs": [],
   "source": [
    "# Your code here\n"
   ]
  }
 ],
 "metadata": {
  "kernelspec": {
   "display_name": "Python 3",
   "language": "python",
   "name": "python3"
  },
  "language_info": {
   "codemirror_mode": {
    "name": "ipython",
    "version": 3
   },
   "file_extension": ".py",
   "mimetype": "text/x-python",
   "name": "python",
   "nbconvert_exporter": "python",
   "pygments_lexer": "ipython3",
   "version": "3.9.4"
  }
 },
 "nbformat": 4,
 "nbformat_minor": 5
}
