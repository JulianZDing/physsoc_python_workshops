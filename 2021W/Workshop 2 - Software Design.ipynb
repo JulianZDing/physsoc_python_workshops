{
 "cells": [
  {
   "cell_type": "markdown",
   "id": "55b5094d",
   "metadata": {},
   "source": [
    "# Physics Society: Pythonic Software Design Workshop (2021)\n",
    "\n",
    "### Author: Julian Ding (julianzding@alumni.ubc.ca)\n",
    "\n",
    "## Itinerary\n",
    "\n",
    "Object Orientation\n",
    "\n",
    "1. Classes\n",
    "2. Methods\n",
    "3. Inheritance\n",
    "4. Imports\n",
    "\n",
    "Advanced Python tricks\n",
    "\n",
    "5. Ask for Forgiveness\n",
    "6. Advanced Argument Parsing\n",
    "7. Function Pointers\n",
    "\n",
    "Your turn!\n",
    "\n",
    "8. Challenge Problems"
   ]
  },
  {
   "cell_type": "code",
   "execution_count": null,
   "id": "3eb9a5e3",
   "metadata": {},
   "outputs": [],
   "source": []
  }
 ],
 "metadata": {
  "kernelspec": {
   "display_name": "Python 3",
   "language": "python",
   "name": "python3"
  },
  "language_info": {
   "codemirror_mode": {
    "name": "ipython",
    "version": 3
   },
   "file_extension": ".py",
   "mimetype": "text/x-python",
   "name": "python",
   "nbconvert_exporter": "python",
   "pygments_lexer": "ipython3",
   "version": "3.9.4"
  }
 },
 "nbformat": 4,
 "nbformat_minor": 5
}
